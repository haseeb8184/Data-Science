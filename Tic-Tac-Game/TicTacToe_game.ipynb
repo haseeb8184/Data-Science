{
 "cells": [
  {
   "cell_type": "code",
   "execution_count": 4,
   "id": "38abe5c3-3eef-42eb-9257-d640e508797d",
   "metadata": {},
   "outputs": [
    {
     "name": "stdout",
     "output_type": "stream",
     "text": [
      "Tic Tac Toe Game\n",
      " | | \n",
      "-----\n",
      " | | \n",
      "-----\n",
      " | | \n",
      "Player X Turns\n"
     ]
    },
    {
     "name": "stdin",
     "output_type": "stream",
     "text": [
      "Enter Locations (1-9):  1\n"
     ]
    },
    {
     "name": "stdout",
     "output_type": "stream",
     "text": [
      "X| | \n",
      "-----\n",
      " | | \n",
      "-----\n",
      " | | \n",
      "Player O Turns\n"
     ]
    },
    {
     "name": "stdin",
     "output_type": "stream",
     "text": [
      "Enter Locations (1-9):  2\n"
     ]
    },
    {
     "name": "stdout",
     "output_type": "stream",
     "text": [
      "X|O| \n",
      "-----\n",
      " | | \n",
      "-----\n",
      " | | \n",
      "Player X Turns\n"
     ]
    },
    {
     "name": "stdin",
     "output_type": "stream",
     "text": [
      "Enter Locations (1-9):  3\n"
     ]
    },
    {
     "name": "stdout",
     "output_type": "stream",
     "text": [
      "X|O|X\n",
      "-----\n",
      " | | \n",
      "-----\n",
      " | | \n",
      "Player O Turns\n"
     ]
    },
    {
     "name": "stdin",
     "output_type": "stream",
     "text": [
      "Enter Locations (1-9):  5\n"
     ]
    },
    {
     "name": "stdout",
     "output_type": "stream",
     "text": [
      "X|O|X\n",
      "-----\n",
      " |O| \n",
      "-----\n",
      " | | \n",
      "Player X Turns\n"
     ]
    },
    {
     "name": "stdin",
     "output_type": "stream",
     "text": [
      "Enter Locations (1-9):  4\n"
     ]
    },
    {
     "name": "stdout",
     "output_type": "stream",
     "text": [
      "X|O|X\n",
      "-----\n",
      "X|O| \n",
      "-----\n",
      " | | \n",
      "Player O Turns\n"
     ]
    },
    {
     "name": "stdin",
     "output_type": "stream",
     "text": [
      "Enter Locations (1-9):  8\n"
     ]
    },
    {
     "name": "stdout",
     "output_type": "stream",
     "text": [
      "X|O|X\n",
      "-----\n",
      "X|O| \n",
      "-----\n",
      " |O| \n",
      "player O wons\n"
     ]
    }
   ],
   "source": [
    "print(\"Tic Tac Toe Game\")\n",
    "\n",
    "game = {1:' ',2:' ',3:' ',\n",
    "        4:' ',5:' ',6:' ',\n",
    "        7:' ',8:' ',9:' '}\n",
    "\n",
    "def print_game():\n",
    "    print(game[1] + '|' + game[2] + '|' + game[3])\n",
    "    print('-----')\n",
    "    print(game[4] + '|' + game[5] + '|' + game[6])\n",
    "    print('-----')\n",
    "    print(game[7] + '|' + game[8] + '|' + game[9])\n",
    "\n",
    "def board_full():\n",
    "    for space in game.values():\n",
    "        if space == ' ':\n",
    "            return False\n",
    "    return True\n",
    "\n",
    "def check_win(game, player):\n",
    "    win_conditions = [\n",
    "        [1, 2, 3],\n",
    "        [4, 5, 6],\n",
    "        [7, 8, 9],\n",
    "        [1, 4, 7],\n",
    "        [2, 5, 8],\n",
    "        [3, 6, 9],\n",
    "        [1, 5, 9],\n",
    "        [3, 5, 7]\n",
    "    ]\n",
    "\n",
    "    for condition in win_conditions:\n",
    "        if game[condition[0]] == player and game[condition[1]] == player and game[condition[2]] == player:\n",
    "            return True\n",
    "    \n",
    "    return False\n",
    "\n",
    "\n",
    "def Play_game():\n",
    "    print_game()\n",
    "    player = 'X'\n",
    "    while True:\n",
    "        print(f'Player {player} Turns')\n",
    "        location = int(input('Enter Locations (1-9): '))\n",
    "        if location < 1 or location > 9:\n",
    "            print('Invalid Position.............')\n",
    "            continue\n",
    "        if game[location] == ' ':\n",
    "            game[location] = player\n",
    "            print_game()\n",
    "        else: \n",
    "            print('Invalid Input')\n",
    "            continue\n",
    "        \n",
    "        if board_full():\n",
    "            print(\"Game Over! The board is full.\")\n",
    "            break\n",
    "        if check_win(game, player):\n",
    "            print(f'player {player} wons')\n",
    "            break\n",
    "\n",
    "        if player == 'X':\n",
    "            player = 'O'\n",
    "        else:\n",
    "            player = 'X'\n",
    "\n",
    "Play_game()\n"
   ]
  },
  {
   "cell_type": "code",
   "execution_count": null,
   "id": "3d8d110c-ec22-415d-be79-10fbd4393da9",
   "metadata": {},
   "outputs": [],
   "source": []
  },
  {
   "cell_type": "code",
   "execution_count": null,
   "id": "aa29c42c-cbc4-4a4d-9471-e723bf9a6270",
   "metadata": {},
   "outputs": [],
   "source": []
  }
 ],
 "metadata": {
  "kernelspec": {
   "display_name": "Python 3 (ipykernel)",
   "language": "python",
   "name": "python3"
  },
  "language_info": {
   "codemirror_mode": {
    "name": "ipython",
    "version": 3
   },
   "file_extension": ".py",
   "mimetype": "text/x-python",
   "name": "python",
   "nbconvert_exporter": "python",
   "pygments_lexer": "ipython3",
   "version": "3.12.4"
  }
 },
 "nbformat": 4,
 "nbformat_minor": 5
}
