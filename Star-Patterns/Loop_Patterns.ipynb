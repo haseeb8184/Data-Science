{
 "cells": [
  {
   "cell_type": "code",
   "execution_count": 1,
   "id": "b6662536-965f-46a3-93ba-29028211ee07",
   "metadata": {},
   "outputs": [
    {
     "name": "stdout",
     "output_type": "stream",
     "text": [
      "Loop Task\n"
     ]
    }
   ],
   "source": [
    "print('Loop Task')"
   ]
  },
  {
   "cell_type": "code",
   "execution_count": 2,
   "id": "a8fcfeda-1a60-4ea6-9dfa-3177d3ad6a98",
   "metadata": {},
   "outputs": [],
   "source": [
    "# *****\n",
    "# *****\n",
    "# *****\n",
    "# *****"
   ]
  },
  {
   "cell_type": "code",
   "execution_count": 3,
   "id": "4d4650c4-4651-4951-8e61-25b0b1076d0b",
   "metadata": {},
   "outputs": [
    {
     "name": "stdout",
     "output_type": "stream",
     "text": [
      "*****\n",
      "*****\n",
      "*****\n",
      "*****\n"
     ]
    }
   ],
   "source": [
    "# For Loop\n",
    "for i in range (4):\n",
    "    for j in range(5):\n",
    "        print('*', end=\"\")\n",
    "    print()"
   ]
  },
  {
   "cell_type": "code",
   "execution_count": 4,
   "id": "151541f4-de75-4002-935c-27c1f3d42548",
   "metadata": {},
   "outputs": [
    {
     "name": "stdout",
     "output_type": "stream",
     "text": [
      "*****\n",
      "*****\n",
      "*****\n",
      "*****\n"
     ]
    }
   ],
   "source": [
    "# While Loop\n",
    "i = 1\n",
    "while i <= 4:\n",
    "    print('*'*5, end=\"\")\n",
    "    i+=1\n",
    "    print()"
   ]
  },
  {
   "cell_type": "code",
   "execution_count": 5,
   "id": "fdbf0b66-fd6f-4aa5-9c27-5877b90a585c",
   "metadata": {},
   "outputs": [],
   "source": [
    "# *\n",
    "# **\n",
    "# ***\n",
    "# ****\n",
    "# *****"
   ]
  },
  {
   "cell_type": "code",
   "execution_count": 6,
   "id": "45e0cefd-91ae-4819-b695-1f0ef942a525",
   "metadata": {},
   "outputs": [
    {
     "name": "stdout",
     "output_type": "stream",
     "text": [
      "*\n",
      "**\n",
      "***\n",
      "****\n",
      "*****\n"
     ]
    }
   ],
   "source": [
    "# For Loop\n",
    "for i in range(1,6):\n",
    "    print('*'*i)"
   ]
  },
  {
   "cell_type": "code",
   "execution_count": 7,
   "id": "65a69412-1bb3-425f-ad5e-e64c3e1d5226",
   "metadata": {},
   "outputs": [
    {
     "name": "stdout",
     "output_type": "stream",
     "text": [
      "*\n",
      "**\n",
      "***\n",
      "****\n",
      "*****\n"
     ]
    }
   ],
   "source": [
    "# while loop\n",
    "i = 1\n",
    "while i <= 5:\n",
    "    print('*'*i, end=\"\")\n",
    "    i+=1\n",
    "    print()"
   ]
  },
  {
   "cell_type": "code",
   "execution_count": 8,
   "id": "ece2beaa-875f-4958-9604-48190565de53",
   "metadata": {},
   "outputs": [],
   "source": [
    "# *****\n",
    "# ****\n",
    "# ***\n",
    "# **\n",
    "# *"
   ]
  },
  {
   "cell_type": "code",
   "execution_count": 9,
   "id": "719e1a9e-a333-46a5-956c-d90db93c355c",
   "metadata": {},
   "outputs": [
    {
     "name": "stdout",
     "output_type": "stream",
     "text": [
      "*****\n",
      "****\n",
      "***\n",
      "**\n",
      "*\n"
     ]
    }
   ],
   "source": [
    "# For Loop\n",
    "n = 5\n",
    "for i in range(n):\n",
    "    print('*' * (n-i), end=\"\")\n",
    "    print()"
   ]
  },
  {
   "cell_type": "code",
   "execution_count": 10,
   "id": "b54e9be1-1459-4ab5-9ca9-64110fe333df",
   "metadata": {},
   "outputs": [
    {
     "name": "stdout",
     "output_type": "stream",
     "text": [
      "*****\n",
      "****\n",
      "***\n",
      "**\n",
      "*\n"
     ]
    }
   ],
   "source": [
    "# While Loop\n",
    "i = 5\n",
    "while i >= 1:\n",
    "    print('*'*i, end=\"\")\n",
    "    i-=1\n",
    "    print()\n",
    "    "
   ]
  },
  {
   "cell_type": "code",
   "execution_count": 11,
   "id": "2f62d54e-2d52-434b-b766-cf17665e34eb",
   "metadata": {},
   "outputs": [],
   "source": [
    "# 1\n",
    "# 12\n",
    "# 123\n",
    "# 1234\n",
    "# 12345"
   ]
  },
  {
   "cell_type": "code",
   "execution_count": 12,
   "id": "cf8a4d93-7ca3-473e-b18b-8caf2621b675",
   "metadata": {},
   "outputs": [
    {
     "name": "stdout",
     "output_type": "stream",
     "text": [
      "1\n",
      "12\n",
      "123\n",
      "1234\n",
      "12345\n"
     ]
    }
   ],
   "source": [
    "# For Loop\n",
    "for i in range(1,6):\n",
    "    for j in range(i):\n",
    "        print(j+1, end=\"\")\n",
    "    print()"
   ]
  },
  {
   "cell_type": "code",
   "execution_count": 13,
   "id": "e8adc5f1-a5e2-46de-8d38-7102a221136c",
   "metadata": {},
   "outputs": [
    {
     "name": "stdout",
     "output_type": "stream",
     "text": [
      "1\n",
      "12\n",
      "123\n",
      "1234\n",
      "12345\n"
     ]
    }
   ],
   "source": [
    "# While Loop\n",
    "i = 0\n",
    "while i < 5:\n",
    "    j = 0\n",
    "    while j<=i:\n",
    "        print(j+1, end=\"\")\n",
    "        j+=1\n",
    "    print()\n",
    "    i+=1"
   ]
  },
  {
   "cell_type": "code",
   "execution_count": 14,
   "id": "84c4a7e3-33f9-4a83-9290-351806281717",
   "metadata": {},
   "outputs": [],
   "source": [
    "# 12345\n",
    "# 1234\n",
    "# 123\n",
    "# 12\n",
    "# 1"
   ]
  },
  {
   "cell_type": "code",
   "execution_count": 15,
   "id": "bb4ae73f-aacb-4bc5-ab33-4f79db0b4ff5",
   "metadata": {},
   "outputs": [
    {
     "name": "stdout",
     "output_type": "stream",
     "text": [
      "12345\n",
      "1234\n",
      "123\n",
      "12\n",
      "1\n"
     ]
    }
   ],
   "source": [
    "# For Loop\n",
    "for i in range(5,0,-1):\n",
    "    for j in range(1,i+1):\n",
    "        print(j, end=\"\")\n",
    "    print()"
   ]
  },
  {
   "cell_type": "code",
   "execution_count": 16,
   "id": "e4f573e0-1f48-4035-bb0c-14fe17f2d9a7",
   "metadata": {},
   "outputs": [
    {
     "name": "stdout",
     "output_type": "stream",
     "text": [
      "12345\n",
      "1234\n",
      "123\n",
      "12\n",
      "1\n",
      "\n"
     ]
    }
   ],
   "source": [
    "# While Loop\n",
    "i = 5\n",
    "while i >= 0:\n",
    "    j = 1\n",
    "    while j <= i:\n",
    "        print(j,end=\"\")\n",
    "        j+=1\n",
    "    print()\n",
    "    i-=1"
   ]
  },
  {
   "cell_type": "code",
   "execution_count": 17,
   "id": "9632133d-855c-42cb-abb0-17ac2749f7ef",
   "metadata": {},
   "outputs": [],
   "source": [
    " #     *\n",
    " #    **\n",
    " #   ***\n",
    " #  ****\n",
    " # *****"
   ]
  },
  {
   "cell_type": "code",
   "execution_count": 18,
   "id": "696b9367-f7eb-4e0c-96d5-f16ae6b49caa",
   "metadata": {},
   "outputs": [
    {
     "name": "stdout",
     "output_type": "stream",
     "text": [
      "      *\n",
      "     **\n",
      "    ***\n",
      "   ****\n",
      "  *****\n"
     ]
    }
   ],
   "source": [
    "#For Loop\n",
    "n = 5\n",
    "for i in range(n):\n",
    "    print(' ' * (n-i), '*'*(i+1),end=\"\")\n",
    "    print()"
   ]
  },
  {
   "cell_type": "code",
   "execution_count": 19,
   "id": "9364d273-f67b-4b36-ac6f-95a58cb5f373",
   "metadata": {},
   "outputs": [
    {
     "name": "stdout",
     "output_type": "stream",
     "text": [
      "      *\n",
      "     **\n",
      "    ***\n",
      "   ****\n",
      "  *****\n"
     ]
    }
   ],
   "source": [
    "#While Loop\n",
    "n = 5\n",
    "i = 0\n",
    "while i < 5:\n",
    "    print(' ' * (n-i), '*'*(i+1),end=\"\")\n",
    "    print()\n",
    "    i+=1"
   ]
  },
  {
   "cell_type": "code",
   "execution_count": 20,
   "id": "f8134c90-d1eb-4f83-8447-96b4d1148dc7",
   "metadata": {},
   "outputs": [],
   "source": [
    " #     **\n",
    " #    ****\n",
    " #   ******\n",
    " #  ********\n",
    " # **********"
   ]
  },
  {
   "cell_type": "code",
   "execution_count": 21,
   "id": "14682acb-c3d5-4286-948b-2acd37de099a",
   "metadata": {},
   "outputs": [
    {
     "name": "stdout",
     "output_type": "stream",
     "text": [
      "       \n",
      "      **\n",
      "     ****\n",
      "    ******\n",
      "   ********\n",
      "  **********\n"
     ]
    }
   ],
   "source": [
    "#For Loop\n",
    "n = 6\n",
    "for i in range(n):\n",
    "    print(' '*(n-i), '*'*(i*2), end=\"\")\n",
    "    print()"
   ]
  },
  {
   "cell_type": "code",
   "execution_count": 22,
   "id": "4c3afa7f-cf00-4a24-9c17-17e8c963f5b8",
   "metadata": {},
   "outputs": [
    {
     "name": "stdout",
     "output_type": "stream",
     "text": [
      "     **\n",
      "    ****\n",
      "   ******\n",
      "  ********\n",
      " **********\n"
     ]
    }
   ],
   "source": [
    "#While Loop\n",
    "n = 5\n",
    "i = 1\n",
    "while i <= 5:\n",
    "    print(' '*(n-i), '*'*(i*2), end=\"\")\n",
    "    print()\n",
    "    i+=1\n",
    "    "
   ]
  },
  {
   "cell_type": "code",
   "execution_count": 23,
   "id": "847ca462-7364-48e5-8eb7-260afc54f6bc",
   "metadata": {},
   "outputs": [],
   "source": [
    " #     *\n",
    " #    ***\n",
    " #   *****\n",
    " #  *******\n",
    " # *********"
   ]
  },
  {
   "cell_type": "code",
   "execution_count": 80,
   "id": "22f1d79a-5d56-463e-973a-96979adfb514",
   "metadata": {},
   "outputs": [
    {
     "name": "stdout",
     "output_type": "stream",
     "text": [
      "      *\n",
      "     ***\n",
      "    *****\n",
      "   *******\n",
      "  *********\n"
     ]
    }
   ],
   "source": [
    "#For Loop\n",
    "n = 5\n",
    "for i in range(n):\n",
    "    print(' ' * (n-i),'*'*(i+1)+'*'*(i), end=\"\")\n",
    "    print()"
   ]
  },
  {
   "cell_type": "code",
   "execution_count": 82,
   "id": "0ee2f5f0-09a1-4d0a-916f-f20e4d7dd0b6",
   "metadata": {},
   "outputs": [
    {
     "name": "stdout",
     "output_type": "stream",
     "text": [
      "      *\n",
      "     ***\n",
      "    *****\n",
      "   *******\n",
      "  *********\n"
     ]
    }
   ],
   "source": [
    "#while Loop\n",
    "n = 5\n",
    "i = 0\n",
    "while i < 5:\n",
    "    print(' ' * (n-i),'*'*(i+1) + '*'*(i), end=\"\")\n",
    "    print()\n",
    "    i+=1\n",
    "    "
   ]
  },
  {
   "cell_type": "code",
   "execution_count": 30,
   "id": "fee2b2c3-f4ae-4e23-b78f-144767e61920",
   "metadata": {},
   "outputs": [],
   "source": [
    "#     *\n",
    "#    ***\n",
    "#   *****\n",
    "#  *******\n",
    "# *********\n",
    "#  *******\n",
    "#   *****\n",
    "#    ***\n",
    "#     *"
   ]
  },
  {
   "cell_type": "code",
   "execution_count": 76,
   "id": "1c9393f2-bc81-4906-9cd4-e974b50b9d9e",
   "metadata": {},
   "outputs": [
    {
     "name": "stdout",
     "output_type": "stream",
     "text": [
      "      *\n",
      "     ***\n",
      "    *****\n",
      "   *******\n",
      "  *********\n",
      "   *******\n",
      "    *****\n",
      "     ***\n",
      "      *\n"
     ]
    }
   ],
   "source": [
    "#For Loop\n",
    "\n",
    "n = 5\n",
    "for i in range(n):\n",
    "    print(' ' * (n-i),'*'*(i+1)+ '*'*(i), end=\"\")\n",
    "    print()\n",
    "for i in reversed(range(4)):\n",
    "    print(' ' * (n-i),'*'*(2*i+1), end=\"\")\n",
    "    print()"
   ]
  },
  {
   "cell_type": "code",
   "execution_count": 73,
   "id": "be470cbd-ba40-4f5d-a830-6aebbc9e48f6",
   "metadata": {},
   "outputs": [
    {
     "name": "stdout",
     "output_type": "stream",
     "text": [
      "       \n",
      "      *\n",
      "     ***\n",
      "    *****\n",
      "   *******\n",
      "  *********\n",
      "   *******\n",
      "    *****\n",
      "     ***\n",
      "      *\n"
     ]
    }
   ],
   "source": [
    "#While Loop\n",
    "\n",
    "n = 5\n",
    "while i < n:\n",
    "    print(' ' * (n-i),'*'*(2*i+1),end=\"\")\n",
    "    print()\n",
    "    i += 1\n",
    "i = 3\n",
    "while i >= 0:\n",
    "    print(' ' * (n-i),'*'*(2*i+1), end=\"\")\n",
    "    print()\n",
    "    i -= 1"
   ]
  },
  {
   "cell_type": "code",
   "execution_count": null,
   "id": "e64ca7ad-ca59-48dd-8452-098ec9b47f4f",
   "metadata": {},
   "outputs": [],
   "source": []
  }
 ],
 "metadata": {
  "kernelspec": {
   "display_name": "Python 3 (ipykernel)",
   "language": "python",
   "name": "python3"
  },
  "language_info": {
   "codemirror_mode": {
    "name": "ipython",
    "version": 3
   },
   "file_extension": ".py",
   "mimetype": "text/x-python",
   "name": "python",
   "nbconvert_exporter": "python",
   "pygments_lexer": "ipython3",
   "version": "3.12.4"
  }
 },
 "nbformat": 4,
 "nbformat_minor": 5
}
