{
 "cells": [
  {
   "cell_type": "code",
   "execution_count": 1,
   "id": "797a2546-a381-4d0f-bbb7-4a7ac55af200",
   "metadata": {},
   "outputs": [],
   "source": [
    "accounts = {\n",
    "    1234567890: {\n",
    "        'name': 'Haseeb',\n",
    "        'city': 'Lahore',\n",
    "        'pin': '1234',\n",
    "        'balance': 1000\n",
    "    },\n",
    "    1234512345: {\n",
    "        'name' : 'Muneeb',\n",
    "        'city': 'Lahore',\n",
    "        'pin': '0000',\n",
    "        'balance' : 2000\n",
    "    }\n",
    "}"
   ]
  },
  {
   "cell_type": "code",
   "execution_count": 2,
   "id": "e689fb91-42bc-48a6-9870-13884c03eaaa",
   "metadata": {},
   "outputs": [],
   "source": [
    "def create_account():\n",
    "    name = input(\"Enter your Name: \")\n",
    "    city = input(\"Enter your City:\")\n",
    "    account_num = int(input(\"Enter 10 digit Account number: \"))\n",
    "    pin = int(input(\"Enter your 4 digit Pin: \"))\n",
    "    '''\n",
    "    if len(str(pin)) != 4:\n",
    "        print(\"Your Pin must be of 4 digits\")\n",
    "        return\n",
    "    '''    \n",
    "    if account_num in accounts:\n",
    "        print(\"Your Account Already Exist\")\n",
    "    else:\n",
    "        accounts[account_num] = {'name' : name, 'city' : city, 'pin': pin, 'balance' : 0}\n",
    "        print(\"Account Created...........\")"
   ]
  },
  {
   "cell_type": "code",
   "execution_count": 3,
   "id": "cac62639-3131-44f8-8d61-debcf0207e08",
   "metadata": {},
   "outputs": [
    {
     "name": "stdin",
     "output_type": "stream",
     "text": [
      "Enter your Name:  Haseeeb Ch\n",
      "Enter your City: Lahore\n",
      "Enter 10 digit Account number:  678907890\n",
      "Enter your 4 digit Pin:  0000\n"
     ]
    },
    {
     "name": "stdout",
     "output_type": "stream",
     "text": [
      "Account Created...........\n"
     ]
    }
   ],
   "source": [
    "create_account()"
   ]
  },
  {
   "cell_type": "code",
   "execution_count": 4,
   "id": "ece49fb5-5e59-43ee-bb51-74b1267ff426",
   "metadata": {},
   "outputs": [
    {
     "data": {
      "text/plain": [
       "'0000'"
      ]
     },
     "execution_count": 4,
     "metadata": {},
     "output_type": "execute_result"
    }
   ],
   "source": [
    "accounts[1234512345]['pin']"
   ]
  },
  {
   "cell_type": "code",
   "execution_count": 5,
   "id": "1dd6163b-1a00-415b-bc50-c5a8bd9ef109",
   "metadata": {},
   "outputs": [],
   "source": [
    "def change_pin():\n",
    "    account_num = int(input(\"Enter your 10 Digit Account Number: \"))\n",
    "    if account_num in accounts:\n",
    "        n_pin = int(input(\"Enter your New Pin: \"))\n",
    "        accounts[account_num]['pin'] = n_pin\n",
    "        print(f\"Congrats Your Pin Changed ........ Your New Pin is {accounts[account_num]['pin']}\")\n",
    "    else: \n",
    "        print(\"Invalid Account Number\")"
   ]
  },
  {
   "cell_type": "code",
   "execution_count": 6,
   "id": "87d5cd70-1b3b-4e1f-817a-9c8a4634c5e2",
   "metadata": {},
   "outputs": [
    {
     "name": "stdin",
     "output_type": "stream",
     "text": [
      "Enter your 10 Digit Account Number:  6789067890\n"
     ]
    },
    {
     "name": "stdout",
     "output_type": "stream",
     "text": [
      "Invalid Account Number\n"
     ]
    }
   ],
   "source": [
    "change_pin()\n"
   ]
  },
  {
   "cell_type": "code",
   "execution_count": 7,
   "id": "cb480aa0-29d0-4c7b-85c6-37ecd5a596f3",
   "metadata": {},
   "outputs": [
    {
     "data": {
      "text/plain": [
       "'1234'"
      ]
     },
     "execution_count": 7,
     "metadata": {},
     "output_type": "execute_result"
    }
   ],
   "source": [
    "accounts[1234567890]['pin']"
   ]
  },
  {
   "cell_type": "code",
   "execution_count": 8,
   "id": "de296286-3828-4d28-b3ec-9c9dd688d2e2",
   "metadata": {},
   "outputs": [],
   "source": [
    "def change_details():\n",
    "    account_num = int(input(\"Enter 10 digit Account number: \"))\n",
    "    if account_num in accounts:\n",
    "        c_details = input(\"Enter \\\"yes\\\" for changing details\")\n",
    "        if c_details == 'yes':\n",
    "            up_details = input(\"which detail you want to update: \")\n",
    "            #up_details = up_details.lower()\n",
    "            if up_details == 'name':\n",
    "                up_name = input(\"Enter New Name: \")\n",
    "                accounts[account_num]['name'] = up_name\n",
    "                print(f\"Congrats ........ Updated {accounts[account_num]['name']}\")\n",
    "            elif up_details == 'city' :\n",
    "                up_city = input(\"Enter your City: \")\n",
    "                accounts[account_num]['city'] = up_city\n",
    "                print(f\"Congrats ........ Updated {accounts[account_num]['city']}\")\n",
    "            elif up_details == 'pin' :\n",
    "                up_pin = int(input(\"Enter your Pin : \"))\n",
    "                accounts[account_num]['pin'] = up_pin\n",
    "                print(f\"Congrats ........ Updated {accounts[account_num]['pin']}\")\n",
    "            else : \n",
    "                print(\"Invalid Details........\")\n",
    "        else:\n",
    "            print(\"Invalid Details........\")\n",
    "    else:\n",
    "        print(\"invalid details\")"
   ]
  },
  {
   "cell_type": "code",
   "execution_count": 9,
   "id": "16fd4037-bbc6-4978-8d92-826b38f5c997",
   "metadata": {},
   "outputs": [
    {
     "name": "stdin",
     "output_type": "stream",
     "text": [
      "Enter 10 digit Account number:  6789067890\n"
     ]
    },
    {
     "name": "stdout",
     "output_type": "stream",
     "text": [
      "invalid details\n"
     ]
    }
   ],
   "source": [
    "change_details()\n"
   ]
  },
  {
   "cell_type": "code",
   "execution_count": 10,
   "id": "eee0e4c9-b376-4528-9d7d-6f9d0a8765ed",
   "metadata": {},
   "outputs": [],
   "source": [
    "def depoist_money():\n",
    "    account_num = int(input(\"Enter 10 digit Account number: \"))\n",
    "    if account_num in accounts:\n",
    "        transfer_amount = int(input(\"Enter Amount to send: \"))\n",
    "        accounts[account_num]['balance'] += transfer_amount\n",
    "        print(f\"Amount Depoist {transfer_amount}............New Balance is {accounts[account_num]['balance']}\") \n",
    "    else:\n",
    "        print(\"Invalid Account Number\")"
   ]
  },
  {
   "cell_type": "code",
   "execution_count": 11,
   "id": "55f61c98-f1ec-4315-9091-1e401d67d88d",
   "metadata": {},
   "outputs": [
    {
     "name": "stdin",
     "output_type": "stream",
     "text": [
      "Enter 10 digit Account number:  1234567890\n",
      "Enter Amount to send:  9000\n"
     ]
    },
    {
     "name": "stdout",
     "output_type": "stream",
     "text": [
      "Amount Depoist 9000............New Balance is 10000\n"
     ]
    }
   ],
   "source": [
    "depoist_money()"
   ]
  },
  {
   "cell_type": "code",
   "execution_count": 12,
   "id": "d819e85a-f3b1-4bdd-a772-a3412220e492",
   "metadata": {},
   "outputs": [],
   "source": [
    "def withdraw_money():\n",
    "    account_num = int(input(\"Enter 10 digit Account number: \"))\n",
    "    if account_num in accounts:\n",
    "        transfer_amount = int(input(\"Enter Amount to withdraw: \"))\n",
    "        if accounts[account_num]['balance'] >= transfer_amount:\n",
    "            accounts[account_num]['balance'] -= transfer_amount   \n",
    "            print(f\"Amount Withdraw {transfer_amount}............Remaining Balance is {accounts[account_num]['balance']}\") \n",
    "        else:\n",
    "            print(\"Low Balance\")\n",
    "    else:\n",
    "        print(\"Invalid Account Number\")"
   ]
  },
  {
   "cell_type": "code",
   "execution_count": 13,
   "id": "ebe5307a-66a2-4408-bba4-cbc28b2fe6a1",
   "metadata": {},
   "outputs": [
    {
     "name": "stdin",
     "output_type": "stream",
     "text": [
      "Enter 10 digit Account number:  1234567890\n",
      "Enter Amount to withdraw:  10000\n"
     ]
    },
    {
     "name": "stdout",
     "output_type": "stream",
     "text": [
      "Amount Withdraw 10000............Remaining Balance is 0\n"
     ]
    }
   ],
   "source": [
    "withdraw_money()"
   ]
  },
  {
   "cell_type": "code",
   "execution_count": 14,
   "id": "a5af6101-bf4c-4e7f-8e4c-1fe2725f4fa7",
   "metadata": {},
   "outputs": [],
   "source": [
    "def check_balance():\n",
    "    account_num = int(input(\"Enter 10 digit Account number: \"))\n",
    "    if account_num in accounts:\n",
    "        print(f\"Your Balance is {accounts[account_num]['balance']}\") \n",
    "    else:\n",
    "        print(\"Invalid Account Number\")"
   ]
  },
  {
   "cell_type": "code",
   "execution_count": 15,
   "id": "60d1a3f5-42db-4105-9308-1ca9cbbd15a3",
   "metadata": {},
   "outputs": [
    {
     "name": "stdin",
     "output_type": "stream",
     "text": [
      "Enter 10 digit Account number:  1234567890\n"
     ]
    },
    {
     "name": "stdout",
     "output_type": "stream",
     "text": [
      "Your Balance is 0\n"
     ]
    }
   ],
   "source": [
    "check_balance()"
   ]
  },
  {
   "cell_type": "code",
   "execution_count": 16,
   "id": "01bb0e5d-2001-49e6-92e2-4935a2ba46a6",
   "metadata": {},
   "outputs": [],
   "source": [
    "def del_Account():\n",
    "    account_num = int(input(\"Enter 10 digit Account number: \"))\n",
    "    if account_num in accounts:\n",
    "        accounts[account_num].clear()\n",
    "        print(\"Account Deleted\")\n",
    "    else:\n",
    "        print(\"Invalid Account Number\")"
   ]
  },
  {
   "cell_type": "code",
   "execution_count": 17,
   "id": "54c131a2-4abb-43be-bb3a-4675b0f87b59",
   "metadata": {},
   "outputs": [
    {
     "name": "stdin",
     "output_type": "stream",
     "text": [
      "Enter 10 digit Account number:  6789067890\n"
     ]
    },
    {
     "name": "stdout",
     "output_type": "stream",
     "text": [
      "Invalid Account Number\n"
     ]
    }
   ],
   "source": [
    "del_Account()"
   ]
  },
  {
   "cell_type": "code",
   "execution_count": 18,
   "id": "9534edae-faa1-4f39-8473-7f14aa4ac3f6",
   "metadata": {},
   "outputs": [],
   "source": [
    "def search_account():\n",
    "    account_num = int(input(\"Enter 10 digit Account number: \"))\n",
    "    if account_num in accounts:\n",
    "        print(\"Account Exist\")\n",
    "    else:\n",
    "        print(\"Account Doesnot Exist\")\n"
   ]
  },
  {
   "cell_type": "code",
   "execution_count": 19,
   "id": "659fcd63-5c49-4d52-a62e-561f7624c685",
   "metadata": {},
   "outputs": [
    {
     "name": "stdin",
     "output_type": "stream",
     "text": [
      "Enter 10 digit Account number:  1234567890\n"
     ]
    },
    {
     "name": "stdout",
     "output_type": "stream",
     "text": [
      "Account Exist\n"
     ]
    }
   ],
   "source": [
    "search_account()"
   ]
  },
  {
   "cell_type": "code",
   "execution_count": 20,
   "id": "67ec566b-3fe0-40ea-bb1c-99f181e5e36d",
   "metadata": {},
   "outputs": [],
   "source": [
    "def view_details():\n",
    "    account_num = int(input(\"Enter 10 digit Account number: \"))\n",
    "    if account_num in accounts:\n",
    "        print(f\"Name: {accounts[account_num]['name']}\")\n",
    "        print(f\"City: {accounts[account_num]['city']}\")\n",
    "        print(f\"Balance: {accounts[account_num]['balance']}\")\n",
    "        print(f\"Pin: {accounts[account_num]['pin']}\")\n",
    "    else:\n",
    "        print(\"Invalid Acc Number\")"
   ]
  },
  {
   "cell_type": "code",
   "execution_count": 21,
   "id": "8af2d9d3-9f8c-4ace-afb8-090884724dfc",
   "metadata": {},
   "outputs": [
    {
     "name": "stdin",
     "output_type": "stream",
     "text": [
      "Enter 10 digit Account number:  1234567890\n"
     ]
    },
    {
     "name": "stdout",
     "output_type": "stream",
     "text": [
      "Name: Haseeb\n",
      "City: Lahore\n",
      "Balance: 0\n",
      "Pin: 1234\n"
     ]
    }
   ],
   "source": [
    "view_details()"
   ]
  },
  {
   "cell_type": "code",
   "execution_count": 22,
   "id": "c6147616-4d9a-4e16-b0fb-ad4fe111b4f0",
   "metadata": {},
   "outputs": [],
   "source": [
    "def get_loan():\n",
    "    account_num = int(input(\"Enter 10 digit Account number: \"))\n",
    "    if account_num in accounts:\n",
    "        loan = int(input(\"Enter amount for Loan: \"))\n",
    "        accounts[account_num]['balance'] += loan\n",
    "        print(f\"Congrats You get {loan}......Your New Balance is {accounts[account_num]['balance']}\")\n",
    "    else:\n",
    "        print(\"Invalid Details\")\n"
   ]
  },
  {
   "cell_type": "code",
   "execution_count": 23,
   "id": "88dad8fb-e205-4bec-b919-bb4945d2a1be",
   "metadata": {},
   "outputs": [
    {
     "name": "stdin",
     "output_type": "stream",
     "text": [
      "Enter 10 digit Account number:  1234567890\n",
      "Enter amount for Loan:  10000\n"
     ]
    },
    {
     "name": "stdout",
     "output_type": "stream",
     "text": [
      "Congrats You get 10000......Your New Balance is 10000\n"
     ]
    }
   ],
   "source": [
    "get_loan()"
   ]
  },
  {
   "cell_type": "code",
   "execution_count": 24,
   "id": "1042a93a-de1f-41da-9697-f3b4e4dc7d0e",
   "metadata": {},
   "outputs": [],
   "source": [
    "def transfer_money():\n",
    "    sender_acc = int(input(\"Enter sender account number:\"))\n",
    "    receiver_acc = int(input(\"Enter receiver account number: \"))\n",
    "    t_amount = int(input(\"Enter amount to transfer: \"))\n",
    "\n",
    "    if sender_acc in accounts and receiver_acc in accounts:\n",
    "        if accounts[sender_acc]['balance'] >= t_amount:\n",
    "            accounts[sender_acc]['balance'] -= t_amount\n",
    "            accounts[receiver_acc]['balance'] += t_amount\n",
    "            print(f\"Your Remaining Balance is {accounts[sender_acc]['balance']}\")\n",
    "            print(f\"Amount {t_amount} Transferred to {receiver_acc}\")\n",
    "        else :\n",
    "            print(\"Low Balance\")\n",
    "    else: \n",
    "        print(\"Invalid account details\")\n",
    "    "
   ]
  },
  {
   "cell_type": "code",
   "execution_count": 25,
   "id": "4894fe3f-9c3c-49e4-8fc3-b034e0a3ab59",
   "metadata": {},
   "outputs": [
    {
     "name": "stdin",
     "output_type": "stream",
     "text": [
      "Enter sender account number: 1234567890\n",
      "Enter receiver account number:  1234512345\n",
      "Enter amount to transfer:  2000\n"
     ]
    },
    {
     "name": "stdout",
     "output_type": "stream",
     "text": [
      "Your Remaining Balance is 8000\n",
      "Amount 2000 Transferred to 1234512345\n"
     ]
    }
   ],
   "source": [
    "transfer_money()"
   ]
  },
  {
   "cell_type": "code",
   "execution_count": 26,
   "id": "add2d1b5-ce1d-40be-8071-e55d8f402a5d",
   "metadata": {},
   "outputs": [
    {
     "data": {
      "text/plain": [
       "8000"
      ]
     },
     "execution_count": 26,
     "metadata": {},
     "output_type": "execute_result"
    }
   ],
   "source": [
    "accounts[1234567890]['balance']"
   ]
  },
  {
   "cell_type": "code",
   "execution_count": 27,
   "id": "c6606ded-7fc2-4bc8-bbec-9f34ac1f3879",
   "metadata": {},
   "outputs": [],
   "source": [
    "def function():\n",
    "    create_account()\n",
    "    change_pin()\n",
    "    change_details()\n",
    "    depoist_money()\n",
    "    withdraw_money()\n",
    "    check_balance()\n",
    "    del_Account()\n",
    "    search_account()\n",
    "    get_loan()\n",
    "    view_details()\n",
    "    transfer_money()\n"
   ]
  },
  {
   "cell_type": "code",
   "execution_count": 28,
   "id": "14e03df6-cc44-4ba6-a5ca-3e4aac832361",
   "metadata": {},
   "outputs": [
    {
     "name": "stdout",
     "output_type": "stream",
     "text": [
      "\n",
      "--- Bank Management System ---\n",
      "1. Create Account\n",
      "2. Change PIN\n",
      "3. Change Account Details\n",
      "4. Deposit Money\n",
      "5. Withdraw Money\n",
      "6. Check Balance\n",
      "7. Delete Account\n",
      "8. Search Account\n",
      "9. Apply for Loan\n",
      "10. View Account Details\n",
      "11. Transfer Money\n",
      "12. Exit\n"
     ]
    },
    {
     "name": "stdin",
     "output_type": "stream",
     "text": [
      "Enter your choice:  1\n",
      "Enter your Name:  Haseeb\n",
      "Enter your City: Karachi\n",
      "Enter 10 digit Account number:  0987654321\n",
      "Enter your 4 digit Pin:  9999\n"
     ]
    },
    {
     "name": "stdout",
     "output_type": "stream",
     "text": [
      "Account Created...........\n",
      "\n",
      "--- Bank Management System ---\n",
      "1. Create Account\n",
      "2. Change PIN\n",
      "3. Change Account Details\n",
      "4. Deposit Money\n",
      "5. Withdraw Money\n",
      "6. Check Balance\n",
      "7. Delete Account\n",
      "8. Search Account\n",
      "9. Apply for Loan\n",
      "10. View Account Details\n",
      "11. Transfer Money\n",
      "12. Exit\n"
     ]
    },
    {
     "name": "stdin",
     "output_type": "stream",
     "text": [
      "Enter your choice:  12\n"
     ]
    },
    {
     "name": "stdout",
     "output_type": "stream",
     "text": [
      "Thank you for using our services!\n"
     ]
    }
   ],
   "source": [
    "def main():\n",
    "    while True:\n",
    "        print(\"\\n--- Bank Management System ---\")\n",
    "        print(\"1. Create Account\")\n",
    "        print(\"2. Change PIN\")\n",
    "        print(\"3. Change Account Details\")\n",
    "        print(\"4. Deposit Money\")\n",
    "        print(\"5. Withdraw Money\")\n",
    "        print(\"6. Check Balance\")\n",
    "        print(\"7. Delete Account\")\n",
    "        print(\"8. Search Account\")\n",
    "        print(\"9. Apply for Loan\")\n",
    "        print(\"10. View Account Details\")\n",
    "        print(\"11. Transfer Money\")\n",
    "        print(\"12. Exit\")\n",
    "        choice = input(\"Enter your choice: \")\n",
    "\n",
    "        if choice == '1':\n",
    "            create_account()\n",
    "        elif choice == '2':\n",
    "            change_pin()\n",
    "        elif choice == '3':\n",
    "            change_details()\n",
    "        elif choice == '4':\n",
    "            deposit_money()\n",
    "        elif choice == '5':\n",
    "            withdraw_money()\n",
    "        elif choice == '6':\n",
    "            check_balance()\n",
    "        elif choice == '7':\n",
    "            del_account()\n",
    "        elif choice == '8':\n",
    "            search_account()\n",
    "        elif choice == '9':\n",
    "            get_loan()\n",
    "        elif choice == '10':\n",
    "            view_details()\n",
    "        elif choice == '11':\n",
    "            transfer_money()\n",
    "        elif choice == '12':\n",
    "            print(\"Thank you for using our services!\")\n",
    "            break\n",
    "        else:\n",
    "            print(\"Invalid choice. Please try again.\")\n",
    "\n",
    "main()\n"
   ]
  },
  {
   "cell_type": "code",
   "execution_count": null,
   "id": "8a5845c6-9ea0-400a-a417-452bcb0ca828",
   "metadata": {},
   "outputs": [],
   "source": []
  }
 ],
 "metadata": {
  "kernelspec": {
   "display_name": "Python 3 (ipykernel)",
   "language": "python",
   "name": "python3"
  },
  "language_info": {
   "codemirror_mode": {
    "name": "ipython",
    "version": 3
   },
   "file_extension": ".py",
   "mimetype": "text/x-python",
   "name": "python",
   "nbconvert_exporter": "python",
   "pygments_lexer": "ipython3",
   "version": "3.12.4"
  }
 },
 "nbformat": 4,
 "nbformat_minor": 5
}
